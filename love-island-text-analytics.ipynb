{
 "cells": [
  {
   "cell_type": "markdown",
   "metadata": {},
   "source": [
    "# Love Island Tweet Analysis Workbook"
   ]
  },
  {
   "cell_type": "markdown",
   "metadata": {},
   "source": [
    "First run a pip install command to get a package that will help us query the Azure Text Analytics API"
   ]
  },
  {
   "cell_type": "code",
   "execution_count": null,
   "metadata": {},
   "outputs": [],
   "source": [
    "!pip install --upgrade azure-cognitiveservices-language-textanalytics"
   ]
  },
  {
   "cell_type": "code",
   "execution_count": null,
   "metadata": {},
   "outputs": [],
   "source": [
    "# import packages needed\n",
    "from azure.cognitiveservices.language.textanalytics import TextAnalyticsClient\n",
    "from msrest.authentication import CognitiveServicesCredentials"
   ]
  },
  {
   "cell_type": "code",
   "execution_count": null,
   "metadata": {},
   "outputs": [],
   "source": [
    "# enter your subscription key below\n",
    "subscription_key = \"<ENTER KEY>\"\n",
    "credentials = CognitiveServicesCredentials(subscription_key)"
   ]
  },
  {
   "cell_type": "code",
   "execution_count": null,
   "metadata": {},
   "outputs": [],
   "source": [
    "# Enter datacenter location\n",
    "text_analytics_url = \"https://<ENTER LOCATION>.api.cognitive.microsoft.com/\"\n",
    "text_analytics = TextAnalyticsClient(endpoint=text_analytics_url, credentials=credentials)"
   ]
  },
  {
   "cell_type": "code",
   "execution_count": null,
   "metadata": {},
   "outputs": [],
   "source": [
    "# After running the sample use the love-island-tweetdata.csv file to input different tweet text to test\n",
    "documents = [\n",
    "    {\n",
    "      \"id\": \"1\", \n",
    "      \"language\": \"en\", \n",
    "      \"text\": \"I like lucie n all but I love Amy she is just new to everything people need to stop judging #loveisland\"\n",
    "    },\n",
    "    {\n",
    "      \"id\": \"2\", \n",
    "      \"language\": \"en\", \n",
    "      \"text\": \"But Amy doesn't deserve Curtis #loveisland\"\n",
    "    },  \n",
    "    {\n",
    "      \"id\": \"3\", \n",
    "      \"language\": \"es\", \n",
    "      \"text\": \"Really hope Arrabella gets a new bit in casa amor just purely for my own entertainment and the look on Danny's face #Loveisland\"\n",
    "    },  \n",
    "    {\n",
    "      \"id\": \"4\", \n",
    "      \"language\": \"it\", \n",
    "      \"text\": \"can we just vote out Danny and Arrabella already pls????? nobody is interested in seeing snakes in the villa @LoveIsland #LoveIsland\"\n",
    "    }\n",
    "  ]"
   ]
  },
  {
   "cell_type": "code",
   "execution_count": null,
   "metadata": {},
   "outputs": [],
   "source": [
    "# Call the web API and loop through each document returned in the JSON response to get the results and the sentiment score\n",
    "# Sentiment: Positive = closer to 1, Negative = closer to 0\n",
    "response = text_analytics.sentiment(documents=documents)\n",
    "for document in response.documents:\n",
    "     print(\"Document Id: \", document.id, \", Sentiment Score: \", \"{:.2f}\".format(document.score))"
   ]
  },
  {
   "cell_type": "code",
   "execution_count": null,
   "metadata": {},
   "outputs": [],
   "source": [
    "# Call the web API and loop through each document returned in the JSON response to get the results and the sentiment score\n",
    "# Kay Phrase: return key words in the sentence\n",
    "response = text_analytics.key_phrases(documents=documents)\n",
    "\n",
    "for document in response.documents:\n",
    "    print(\"Document Id: \", document.id)\n",
    "    print(\"\\tKey Phrases:\")\n",
    "    for phrase in document.key_phrases:\n",
    "        print(\"\\t\\t\",phrase)"
   ]
  }
 ],
 "metadata": {
  "kernelspec": {
   "display_name": "Python 3.6",
   "language": "python",
   "name": "python36"
  },
  "language_info": {
   "codemirror_mode": {
    "name": "ipython",
    "version": 3
   },
   "file_extension": ".py",
   "mimetype": "text/x-python",
   "name": "python",
   "nbconvert_exporter": "python",
   "pygments_lexer": "ipython3",
   "version": "3.6.6"
  }
 },
 "nbformat": 4,
 "nbformat_minor": 2
}
